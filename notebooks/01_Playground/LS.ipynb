{
 "cells": [
  {
   "cell_type": "markdown",
   "id": "outdoor-encoding",
   "metadata": {},
   "source": [
    "# Exercises"
   ]
  },
  {
   "cell_type": "code",
   "execution_count": 1,
   "id": "trained-spice",
   "metadata": {},
   "outputs": [],
   "source": [
    "import logging"
   ]
  },
  {
   "cell_type": "code",
   "execution_count": 2,
   "id": "loose-growth",
   "metadata": {},
   "outputs": [
    {
     "name": "stdout",
     "output_type": "stream",
     "text": [
      "Setup was successful.\n"
     ]
    }
   ],
   "source": [
    "from optibook.synchronous_client import Exchange\n",
    "import datetime\n",
    "\n",
    "from optibook.synchronous_client import InfoOnly\n",
    "\n",
    "\n",
    "import logging\n",
    "logger = logging.getLogger('client')\n",
    "logger.setLevel('ERROR')\n",
    "\n",
    "print(\"Setup was successful.\")"
   ]
  },
  {
   "cell_type": "markdown",
   "id": "entitled-throat",
   "metadata": {},
   "source": [
    "# Instrument"
   ]
  },
  {
   "cell_type": "code",
   "execution_count": 3,
   "id": "aging-above",
   "metadata": {},
   "outputs": [],
   "source": [
    "instrument_id = 'PHILIPS_A'"
   ]
  },
  {
   "cell_type": "code",
   "execution_count": 17,
   "id": "biblical-running",
   "metadata": {},
   "outputs": [
    {
     "name": "stderr",
     "output_type": "stream",
     "text": [
      "2021-01-24 00:03:40,603 [asyncio   ] [MainThread  ] Using selector: EpollSelector\n"
     ]
    }
   ],
   "source": [
    "e = Exchange()\n",
    "a = e.connect()"
   ]
  },
  {
   "cell_type": "markdown",
   "id": "removed-qatar",
   "metadata": {},
   "source": [
    "## Current Possitoin"
   ]
  },
  {
   "cell_type": "code",
   "execution_count": 12,
   "id": "liable-polls",
   "metadata": {},
   "outputs": [
    {
     "name": "stdout",
     "output_type": "stream",
     "text": [
      "PHILIPS_A 0\n",
      "PHILIPS_B 0\n"
     ]
    }
   ],
   "source": [
    "# Returns all current positions\n",
    "positions = e.get_positions()\n",
    "for p in positions:\n",
    "    print(p, positions[p])"
   ]
  },
  {
   "cell_type": "code",
   "execution_count": 13,
   "id": "graduate-apparatus",
   "metadata": {},
   "outputs": [
    {
     "name": "stdout",
     "output_type": "stream",
     "text": [
      "PHILIPS_A 0\n",
      "PHILIPS_B 0\n"
     ]
    }
   ],
   "source": [
    "# Returns all current positions with cash invested\n",
    "positions = e.get_positions()\n",
    "for p in positions:\n",
    "    print(p, positions[p])"
   ]
  },
  {
   "cell_type": "code",
   "execution_count": 14,
   "id": "smooth-frontier",
   "metadata": {},
   "outputs": [
    {
     "data": {
      "text/plain": [
       "[0, 0]"
      ]
     },
     "execution_count": 14,
     "metadata": {},
     "output_type": "execute_result"
    }
   ],
   "source": [
    "[positions[p] for p in ['PHILIPS_A', 'PHILIPS_B']]"
   ]
  },
  {
   "cell_type": "code",
   "execution_count": 16,
   "id": "solar-socket",
   "metadata": {},
   "outputs": [
    {
     "data": {
      "text/plain": [
       "0"
      ]
     },
     "execution_count": 16,
     "metadata": {},
     "output_type": "execute_result"
    }
   ],
   "source": [
    "positions['PHILIPS_A'] -positions['PHILIPS_A']"
   ]
  },
  {
   "cell_type": "code",
   "execution_count": 151,
   "id": "focused-temperature",
   "metadata": {},
   "outputs": [
    {
     "name": "stdout",
     "output_type": "stream",
     "text": [
      "38.299999999995634\n"
     ]
    }
   ],
   "source": [
    "# Returns Current PnL based on last Traded Price\n",
    "pnl = e.get_pnl()\n",
    "print(pnl)"
   ]
  },
  {
   "cell_type": "code",
   "execution_count": null,
   "id": "mineral-editor",
   "metadata": {},
   "outputs": [],
   "source": []
  },
  {
   "cell_type": "markdown",
   "id": "younger-bulgarian",
   "metadata": {},
   "source": [
    "## Trading History"
   ]
  },
  {
   "cell_type": "code",
   "execution_count": 27,
   "id": "scheduled-stamp",
   "metadata": {},
   "outputs": [
    {
     "name": "stdout",
     "output_type": "stream",
     "text": [
      "<optibook.common_types.PriceBook object at 0x7fa04c88a160>\n"
     ]
    }
   ],
   "source": [
    "book = e.get_last_price_book(instrument_id)\n",
    "print(book)"
   ]
  },
  {
   "cell_type": "code",
   "execution_count": 30,
   "id": "changing-diesel",
   "metadata": {},
   "outputs": [
    {
     "name": "stdout",
     "output_type": "stream",
     "text": [
      "[PHILIPS_A] price(71.0), volume(1), aggressor_side(ask), buyer(), seller()\n"
     ]
    }
   ],
   "source": [
    "# Returns all public tradeticks since the last time this function was called\n",
    "tradeticks = e.poll_new_trade_ticks(instrument_id)\n",
    "for t in tradeticks:\n",
    "    print(f\"[{t.instrument_id}] price({t.price}), volume({t.volume}), aggressor_side({t.aggressor_side}), buyer({t.buyer}), seller({t.seller})\")"
   ]
  },
  {
   "cell_type": "code",
   "execution_count": 33,
   "id": "mexican-hamilton",
   "metadata": {},
   "outputs": [],
   "source": [
    "# Returns all public tradeticks since the instantiation of the Exchange\n",
    "tradeticks = e.get_trade_tick_history(instrument_id)\n",
    "for t in tradeticks:\n",
    "    print(t)"
   ]
  },
  {
   "cell_type": "code",
   "execution_count": 12,
   "id": "precise-committee",
   "metadata": {},
   "outputs": [],
   "source": [
    "orders = e.get_outstanding_orders(instrument_id)\n",
    "for o in orders.values():\n",
    "    print(o)"
   ]
  },
  {
   "cell_type": "code",
   "execution_count": 38,
   "id": "strategic-marketplace",
   "metadata": {},
   "outputs": [],
   "source": [
    "# See all your outstanding orders\n",
    "outstanding = e.get_outstanding_orders(instrument_id)\n",
    "for o in outstanding.values():\n",
    "    print(f\"Outstanding order: order_id({o.order_id}), instrument_id({o.instrument_id}), price({o.price}), volume({o.volume}), side({o.side})\")"
   ]
  },
  {
   "cell_type": "markdown",
   "id": "handmade-branch",
   "metadata": {},
   "source": [
    "### Making a trade\n",
    "\n",
    "To make it save, sell one at 0.02 "
   ]
  },
  {
   "cell_type": "code",
   "execution_count": 63,
   "id": "classical-stereo",
   "metadata": {},
   "outputs": [
    {
     "name": "stdout",
     "output_type": "stream",
     "text": [
      "Order Id: 194540\n"
     ]
    }
   ],
   "source": [
    "# Insert ask limit order - This trades against any current orders, and any remainders become new resting orders in the book\n",
    "# Use this to sell.\n",
    "result = e.insert_order(instrument_id, price=0.02, volume=1, side='bid', order_type='limit')\n",
    "print(f\"Order Id: {result}\")"
   ]
  },
  {
   "cell_type": "code",
   "execution_count": 61,
   "id": "offshore-feedback",
   "metadata": {},
   "outputs": [
    {
     "data": {
      "text/plain": [
       "{194518: <optibook.common_types.OrderStatus at 0x7fa04c76dbe0>}"
      ]
     },
     "execution_count": 61,
     "metadata": {},
     "output_type": "execute_result"
    }
   ],
   "source": [
    "orders = e.get_outstanding_orders(instrument_id); orders"
   ]
  },
  {
   "cell_type": "code",
   "execution_count": 62,
   "id": "eight-aaron",
   "metadata": {},
   "outputs": [
    {
     "name": "stdout",
     "output_type": "stream",
     "text": [
      "Deleting 194518\n"
     ]
    }
   ],
   "source": [
    "for o in orders.keys():\n",
    "    print('Deleting {}'.format(o))\n",
    "    e.delete_order(instrument_id, order_id=o)"
   ]
  },
  {
   "cell_type": "code",
   "execution_count": 71,
   "id": "stone-iraqi",
   "metadata": {},
   "outputs": [],
   "source": [
    "book = i.get_last_price_book(instrument_id)"
   ]
  },
  {
   "cell_type": "code",
   "execution_count": 70,
   "id": "saved-happening",
   "metadata": {},
   "outputs": [
    {
     "name": "stderr",
     "output_type": "stream",
     "text": [
      "2021-01-23 14:19:48,248 [asyncio   ] [MainThread  ] Using selector: EpollSelector\n"
     ]
    }
   ],
   "source": [
    "i = InfoOnly()\n",
    "#i = InfoOnly(host='host-to-connect-to')\n",
    "i.connect()"
   ]
  },
  {
   "cell_type": "code",
   "execution_count": 15,
   "id": "olympic-arctic",
   "metadata": {},
   "outputs": [],
   "source": [
    "disp_tradeticks = []\n",
    "disp_tradeticks_max_age = datetime.timedelta(seconds=20)\n",
    "feedcode = 'PHILIPS_A'"
   ]
  },
  {
   "cell_type": "code",
   "execution_count": 88,
   "id": "deluxe-fifth",
   "metadata": {},
   "outputs": [
    {
     "data": {
      "text/plain": [
       "<optibook.common_types.PriceBook at 0x7fa04fb45240>"
      ]
     },
     "execution_count": 88,
     "metadata": {},
     "output_type": "execute_result"
    }
   ],
   "source": [
    "book = i.get_last_price_book(feedcode)\n",
    "book"
   ]
  },
  {
   "cell_type": "code",
   "execution_count": 68,
   "id": "acquired-configuration",
   "metadata": {},
   "outputs": [
    {
     "name": "stderr",
     "output_type": "stream",
     "text": [
      "2021-01-23 14:14:10,089 [asyncio   ] [MainThread  ] Using selector: EpollSelector\n"
     ]
    }
   ],
   "source": [
    "e = Exchange()\n",
    "a = e.connect()\n",
    "tradeticks = e.poll_new_trade_ticks(instrument_id)"
   ]
  },
  {
   "cell_type": "code",
   "execution_count": 87,
   "id": "floppy-alexander",
   "metadata": {},
   "outputs": [
    {
     "data": {
      "text/plain": [
       "<optibook.common_types.PriceBook at 0x7fa04c813e10>"
      ]
     },
     "execution_count": 87,
     "metadata": {},
     "output_type": "execute_result"
    }
   ],
   "source": [
    "book"
   ]
  },
  {
   "cell_type": "markdown",
   "id": "accredited-candidate",
   "metadata": {},
   "source": [
    "```\n",
    "If there exists ask.val < bid.val:\n",
    "    x = min( ask.ammount, bid.ammount)\n",
    "    buy (ask.val, x)\n",
    "    sell bid(bid.val , x)\n",
    "```"
   ]
  },
  {
   "cell_type": "markdown",
   "id": "italian-rebel",
   "metadata": {},
   "source": [
    "# Book info"
   ]
  },
  {
   "cell_type": "code",
   "execution_count": 95,
   "id": "decent-saturday",
   "metadata": {},
   "outputs": [
    {
     "name": "stderr",
     "output_type": "stream",
     "text": [
      "2021-01-23 14:39:11,488 [asyncio   ] [MainThread  ] Using selector: EpollSelector\n"
     ]
    }
   ],
   "source": [
    "e = Exchange()\n",
    "a = e.connect()      "
   ]
  },
  {
   "cell_type": "code",
   "execution_count": 104,
   "id": "complete-annual",
   "metadata": {},
   "outputs": [
    {
     "name": "stderr",
     "output_type": "stream",
     "text": [
      "2021-01-23 14:42:02,627 [asyncio   ] [MainThread  ] Using selector: EpollSelector\n"
     ]
    }
   ],
   "source": [
    "i = InfoOnly()\n",
    "i.connect()\n",
    "bookA = i.get_last_price_book('PHILIPS_A')  \n",
    "bookB = i.get_last_price_book('PHILIPS_B')  "
   ]
  },
  {
   "cell_type": "code",
   "execution_count": null,
   "id": "neural-pizza",
   "metadata": {},
   "outputs": [],
   "source": []
  },
  {
   "cell_type": "code",
   "execution_count": 105,
   "id": "improved-major",
   "metadata": {},
   "outputs": [
    {
     "data": {
      "text/plain": [
       "[[price_volume] price=72.10000000000001, volume=200]"
      ]
     },
     "execution_count": 105,
     "metadata": {},
     "output_type": "execute_result"
    }
   ],
   "source": [
    "book.bids"
   ]
  },
  {
   "cell_type": "code",
   "execution_count": 106,
   "id": "superior-amino",
   "metadata": {},
   "outputs": [],
   "source": [
    "best_askA = bookA.asks[0]\n",
    "best_bidA = bookA.bids[0]\n",
    "best_askB = bookB.asks[0]\n",
    "best_bidB = bookB.bids[0]"
   ]
  },
  {
   "cell_type": "code",
   "execution_count": 123,
   "id": "entitled-decision",
   "metadata": {},
   "outputs": [],
   "source": [
    "best_askA.price = 1\n",
    "best_bidB.price = 2"
   ]
  },
  {
   "cell_type": "code",
   "execution_count": 133,
   "id": "geological-plenty",
   "metadata": {},
   "outputs": [
    {
     "name": "stdout",
     "output_type": "stream",
     "text": [
      "Buy PHILIPS_A, Sell PHILIPS_B, Volume 60\n",
      "1 76.10000000000001 75.5 2\n"
     ]
    }
   ],
   "source": [
    "if min(best_askA.price, best_askB.price) < max(best_bidA.price, best_bidB.price):\n",
    "    \n",
    "    if best_askA.price < best_askB.price:\n",
    "        s = 0\n",
    "        vol = np.min([best_askA.volume, best_bidB.volume])\n",
    "    else:\n",
    "        s = 1\n",
    "        vol = np.min([best_askB.volume, best_bidA.volume])\n",
    "    \n",
    "    options = ['PHILIPS_A', 'PHILIPS_B']\n",
    "    \n",
    "    \n",
    "    if True:\n",
    "        print('Buy {}, Sell {}, Volume {}'.format(options[s],options[(s+1)%2], vol) )\n",
    "        \n",
    "    else:\n",
    "        e.insert_order(options[s], price=0.02, volume=vol, side='bid', order_type='limit')\n",
    "        e.insert_order(options[(s+1)%2], price=0.02, volume=vol, side='ask', order_type='limit')\n",
    "    \n",
    "else:\n",
    "    pass"
   ]
  },
  {
   "cell_type": "code",
   "execution_count": 130,
   "id": "armed-manhattan",
   "metadata": {},
   "outputs": [
    {
     "name": "stdout",
     "output_type": "stream",
     "text": [
      "\n",
      "\n",
      "\n",
      "        |    300.00  |      1 \n",
      "        |    100.00  |      1 \n",
      "        |      1.00  |    200 \n",
      "------------------------------\n",
      "   200  |     75.50  |       \n",
      "\n",
      "\n",
      "\n",
      "\n",
      "\n",
      "\n",
      "\n",
      "\n",
      "\n",
      "\n",
      "        |     76.40  |     40 \n",
      "        |     76.10  |     20 \n",
      "------------------------------\n",
      "    60  |      2.00  |       \n",
      "\n",
      "\n",
      "\n",
      "\n",
      "\n",
      "\n"
     ]
    }
   ],
   "source": [
    "print(book_pretty(bookA), book_pretty(bookB), sep='\\n')"
   ]
  },
  {
   "cell_type": "code",
   "execution_count": 132,
   "id": "promotional-judgment",
   "metadata": {},
   "outputs": [
    {
     "data": {
      "text/plain": [
       "[[price_volume] price=1, volume=200,\n",
       " [price_volume] price=100.0, volume=1,\n",
       " [price_volume] price=300.0, volume=1]"
      ]
     },
     "execution_count": 132,
     "metadata": {},
     "output_type": "execute_result"
    }
   ],
   "source": [
    "bookA.asks"
   ]
  },
  {
   "cell_type": "markdown",
   "id": "informative-commercial",
   "metadata": {},
   "source": [
    "# Pretty book\n"
   ]
  },
  {
   "cell_type": "code",
   "execution_count": 127,
   "id": "interracial-petite",
   "metadata": {},
   "outputs": [],
   "source": [
    "\n",
    "def book_pretty(price_book):\n",
    "    if price_book is None:\n",
    "        return 'NO BOOK'\n",
    "    \n",
    "    res = ''\n",
    "    for level in reversed(range(6)):\n",
    "        if level >= len(price_book.asks):\n",
    "            res += \"\\n\"\n",
    "        else:\n",
    "            ask = price_book.asks[level]\n",
    "            res += f\"        |  {ask.price:8.2f}  |  {ask.volume:5} \\n\"\n",
    "\n",
    "    res += '------------------------------\\n'\n",
    "\n",
    "    for level in range(6):\n",
    "        if level >= len(price_book.bids):\n",
    "            res += \"\\n\"\n",
    "        else:\n",
    "            bid = price_book.bids[level]\n",
    "            res += f\" {bid.volume:5}  |  {bid.price:8.2f}  |       \\n\"   \n",
    "\n",
    "    return res"
   ]
  },
  {
   "cell_type": "markdown",
   "id": "chubby-connectivity",
   "metadata": {},
   "source": [
    "# Timing"
   ]
  },
  {
   "cell_type": "code",
   "execution_count": 140,
   "id": "compatible-divide",
   "metadata": {},
   "outputs": [
    {
     "ename": "ModuleNotFoundError",
     "evalue": "No module named 'sleep'",
     "output_type": "error",
     "traceback": [
      "\u001b[0;31m---------------------------------------------------------------------------\u001b[0m",
      "\u001b[0;31mModuleNotFoundError\u001b[0m                       Traceback (most recent call last)",
      "\u001b[0;32m<ipython-input-140-c81eb9ae2a1e>\u001b[0m in \u001b[0;36m<module>\u001b[0;34m\u001b[0m\n\u001b[1;32m      1\u001b[0m \u001b[0;32mimport\u001b[0m \u001b[0mtime\u001b[0m\u001b[0;34m\u001b[0m\u001b[0;34m\u001b[0m\u001b[0m\n\u001b[0;32m----> 2\u001b[0;31m \u001b[0;32mimport\u001b[0m \u001b[0msleep\u001b[0m\u001b[0;34m\u001b[0m\u001b[0;34m\u001b[0m\u001b[0m\n\u001b[0m",
      "\u001b[0;31mModuleNotFoundError\u001b[0m: No module named 'sleep'"
     ]
    }
   ],
   "source": [
    "import time\n",
    "import sleep"
   ]
  },
  {
   "cell_type": "code",
   "execution_count": null,
   "id": "extraordinary-binding",
   "metadata": {},
   "outputs": [],
   "source": [
    "comm = "
   ]
  },
  {
   "cell_type": "code",
   "execution_count": 144,
   "id": "pregnant-hypothetical",
   "metadata": {},
   "outputs": [
    {
     "name": "stdout",
     "output_type": "stream",
     "text": [
      "Took 0.0012171268463134766 seconds\n"
     ]
    }
   ],
   "source": [
    "start = time.time()        \n",
    "time.sleep(.001)\n",
    "end = time.time()\n",
    "\n",
    "print(f'Took {end-start} seconds')"
   ]
  },
  {
   "cell_type": "code",
   "execution_count": null,
   "id": "vietnamese-ordinance",
   "metadata": {},
   "outputs": [],
   "source": []
  }
 ],
 "metadata": {
  "kernelspec": {
   "display_name": "Python 3",
   "language": "python",
   "name": "python3"
  },
  "language_info": {
   "codemirror_mode": {
    "name": "ipython",
    "version": 3
   },
   "file_extension": ".py",
   "mimetype": "text/x-python",
   "name": "python",
   "nbconvert_exporter": "python",
   "pygments_lexer": "ipython3",
   "version": "3.6.12"
  }
 },
 "nbformat": 4,
 "nbformat_minor": 5
}
