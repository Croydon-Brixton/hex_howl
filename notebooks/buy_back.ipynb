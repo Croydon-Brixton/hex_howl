{
 "cells": [
  {
   "cell_type": "code",
   "execution_count": 1,
   "id": "distributed-arthur",
   "metadata": {},
   "outputs": [
    {
     "name": "stdout",
     "output_type": "stream",
     "text": [
      "Setup was successful.\n"
     ]
    }
   ],
   "source": [
    "from optibook.synchronous_client import Exchange\n",
    "\n",
    "import logging\n",
    "logger = logging.getLogger('client')\n",
    "logger.setLevel('ERROR')\n",
    "from src.utils.logging_utils import initialize_logger\n",
    "initialize_logger(logger, log_name=\"client\")\n",
    "\n",
    "print(\"Setup was successful.\")"
   ]
  },
  {
   "cell_type": "code",
   "execution_count": 2,
   "id": "coated-dealing",
   "metadata": {},
   "outputs": [],
   "source": [
    "from src.utils.market_utils import best_ask, best_bid, spread, midquote, get_vitals\n",
    "import numpy as np\n",
    "import time"
   ]
  },
  {
   "cell_type": "code",
   "execution_count": 20,
   "id": "physical-palmer",
   "metadata": {},
   "outputs": [
    {
     "name": "stderr",
     "output_type": "stream",
     "text": [
      "2021-01-24 12:29:17,946 [asyncio   ] [MainThread  ] Using selector: EpollSelector\n",
      "2021-01-24 12:29:17,949 [client    ] [Thread-5    ] background thread started [in /usr/local/lib/python3.6/site-packages/optibook/synchronous_wrapper.py:83]\n",
      "2021-01-24 12:29:17,949 [client    ] [Thread-5    ] background thread started\n",
      "2021-01-24 12:29:17,958 [client    ] [Thread-5    ] opened connection [in /usr/local/lib/python3.6/site-packages/optibook/base_client.py:180]\n",
      "2021-01-24 12:29:17,958 [client    ] [Thread-5    ] opened connection\n",
      "2021-01-24 12:29:17,962 [client    ] [Thread-5    ] start read <StreamReader t=<_SelectorSocketTransport fd=101 read=polling write=<idle, bufsize=0>>> [in /usr/local/lib/python3.6/site-packages/optibook/base_client.py:116]\n",
      "2021-01-24 12:29:17,962 [client    ] [Thread-5    ] start read <StreamReader t=<_SelectorSocketTransport fd=101 read=polling write=<idle, bufsize=0>>>\n",
      "2021-01-24 12:29:17,965 [client    ] [Thread-5    ] logged in! [in /usr/local/lib/python3.6/site-packages/optibook/exchange_client.py:66]\n",
      "2021-01-24 12:29:17,965 [client    ] [Thread-5    ] logged in!\n",
      "2021-01-24 12:29:18,061 [client    ] [MainThread  ] No public trade-tick found to evaluate 'PHILIPS_A'-position (-10) against and no valuation provided. Unable to calculate PnL. [in /usr/local/lib/python3.6/site-packages/optibook/synchronous_client.py:236]\n",
      "2021-01-24 12:29:18,061 [client    ] [MainThread  ] No public trade-tick found to evaluate 'PHILIPS_A'-position (-10) against and no valuation provided. Unable to calculate PnL.\n"
     ]
    }
   ],
   "source": [
    "e = Exchange()\n",
    "a = e.connect()\n"
   ]
  },
  {
   "cell_type": "code",
   "execution_count": 21,
   "id": "acoustic-distinction",
   "metadata": {},
   "outputs": [
    {
     "data": {
      "text/plain": [
       "1342.6000000000063"
      ]
     },
     "execution_count": 21,
     "metadata": {},
     "output_type": "execute_result"
    },
    {
     "name": "stderr",
     "output_type": "stream",
     "text": [
      "2021-01-24 12:30:45,215 [client    ] [Thread-5    ] Forcing a disconnect due to an error: Closing connection because someone else logged in with the same credentials. Only one session may be active at the same time. [in /usr/local/lib/python3.6/site-packages/optibook/exchange_client.py:305]\n",
      "2021-01-24 12:30:45,215 [client    ] [Thread-5    ] Forcing a disconnect due to an error: Closing connection because someone else logged in with the same credentials. Only one session may be active at the same time.\n"
     ]
    }
   ],
   "source": [
    "e.get_pnl()"
   ]
  },
  {
   "cell_type": "code",
   "execution_count": 100,
   "id": "homeless-testing",
   "metadata": {},
   "outputs": [
    {
     "name": "stdout",
     "output_type": "stream",
     "text": [
      "{'PHILIPS_A': 0, 'PHILIPS_B': 4}\n",
      "PHILIPS_B, 81.10000000000001, 4, ask\n",
      "end: {'PHILIPS_A': 0, 'PHILIPS_B': 3}\n",
      "PHILIPS_B, 81.10000000000001, 3, ask\n",
      "end: {'PHILIPS_A': 0, 'PHILIPS_B': 2}\n",
      "PHILIPS_B, 81.0, 2, ask\n",
      "end: {'PHILIPS_A': 0, 'PHILIPS_B': 0}\n",
      "{'PHILIPS_A': 0, 'PHILIPS_B': 0}\n"
     ]
    },
    {
     "name": "stderr",
     "output_type": "stream",
     "text": [
      "2021-01-24 11:40:33,849 [client    ] [Thread-16   ] Forcing a disconnect due to an error: Closing connection because someone else logged in with the same credentials. Only one session may be active at the same time.\n"
     ]
    }
   ],
   "source": [
    "print(e.get_positions())\n",
    "\n",
    "pos ={'PHILIPS_A': -30, 'PHILIPS_B': 20}\n",
    "pos = e.get_positions()\n",
    "\n",
    "while list(pos.values())!=[0,0]:\n",
    "    \n",
    "    for s, p in pos.items():\n",
    "        price_book = e.get_last_price_book(s)\n",
    "        # Check market vitals\n",
    "        best_ask, best_bid, spread, midquote = get_vitals(price_book)\n",
    "        #print(best_ask, best_bid, spread, midquote)\n",
    "        if p > 0:\n",
    "            volume= min(p, 5)\n",
    "            price = best_bid\n",
    "            print(f'{s}, {price}, {volume}, ask')\n",
    "            e.insert_order(s, price=price, volume=volume, side='ask', order_type='ioc')\n",
    "        elif p < 0:\n",
    "            volume= min(-p, 5)\n",
    "            price = best_ask\n",
    "            e.insert_order(s, price=price, volume=volume, side='bid', order_type='ioc')\n",
    "            print(f'{s}, {price}, {volume}, bid')\n",
    "            \n",
    "    # update pos\n",
    "    pos = e.get_positions()\n",
    "    print(f'end: {pos}')\n",
    "    time.sleep(.01)\n",
    "print(e.get_positions())"
   ]
  },
  {
   "cell_type": "code",
   "execution_count": 103,
   "id": "completed-services",
   "metadata": {},
   "outputs": [
    {
     "name": "stdout",
     "output_type": "stream",
     "text": [
      "('PHILIPS_A', 0)\n",
      "('PHILIPS_B', 0)\n"
     ]
    }
   ],
   "source": [
    "for s in pos.items():\n",
    "    print(s)"
   ]
  },
  {
   "cell_type": "code",
   "execution_count": 6,
   "id": "interesting-prediction",
   "metadata": {},
   "outputs": [],
   "source": [
    "pos ={'PHILIPS_A': -30, 'PHILIPS_B': 20}"
   ]
  },
  {
   "cell_type": "code",
   "execution_count": 19,
   "id": "binary-clearing",
   "metadata": {},
   "outputs": [
    {
     "name": "stderr",
     "output_type": "stream",
     "text": [
      "2021-01-24 12:16:13,116 [client    ] [MainThread  ] Less in A -3, buying {'PHILIPS_A': -1, 'PHILIPS_B': -2} [in <ipython-input-19-f338aad83966>:13]\n",
      "2021-01-24 12:16:13,116 [client    ] [MainThread  ] Less in A -3, buying {'PHILIPS_A': -1, 'PHILIPS_B': -2}\n",
      "2021-01-24 12:16:13,124 [client    ] [MainThread  ] side : bid, volume: 3, price 79.2 [in <ipython-input-19-f338aad83966>:18]\n",
      "2021-01-24 12:16:13,124 [client    ] [MainThread  ] side : bid, volume: 3, price 79.2\n",
      "2021-01-24 12:16:13,140 [client    ] [Thread-4    ] Private trade: ( tradeId = 18085,\n",
      "  timestamp = 1611490573128257773,\n",
      "  instrumentId = \"PHILIPS_A\",\n",
      "  orderId = 91264,\n",
      "  price = 79.2,\n",
      "  volume = 3,\n",
      "  side = bid ). [in /usr/local/lib/python3.6/site-packages/optibook/exchange_client.py:153]\n",
      "2021-01-24 12:16:13,140 [client    ] [Thread-4    ] Private trade: ( tradeId = 18085,\n",
      "  timestamp = 1611490573128257773,\n",
      "  instrumentId = \"PHILIPS_A\",\n",
      "  orderId = 91264,\n",
      "  price = 79.2,\n",
      "  volume = 3,\n",
      "  side = bid ).\n",
      "2021-01-24 12:16:13,142 [client    ] [Thread-4    ] trade end ( tradeId = 18085,\n",
      "  timestamp = 1611490573128257773,\n",
      "  instrumentId = \"PHILIPS_A\",\n",
      "  orderId = 91264,\n",
      "  price = 79.2,\n",
      "  volume = 3,\n",
      "  side = bid ) [in /usr/local/lib/python3.6/site-packages/optibook/exchange_client.py:299]\n",
      "2021-01-24 12:16:13,142 [client    ] [Thread-4    ] trade end ( tradeId = 18085,\n",
      "  timestamp = 1611490573128257773,\n",
      "  instrumentId = \"PHILIPS_A\",\n",
      "  orderId = 91264,\n",
      "  price = 79.2,\n",
      "  volume = 3,\n",
      "  side = bid )\n",
      "2021-01-24 12:17:01,083 [client    ] [Thread-4    ] Forcing a disconnect due to an error: Closing connection because someone else logged in with the same credentials. Only one session may be active at the same time. [in /usr/local/lib/python3.6/site-packages/optibook/exchange_client.py:305]\n",
      "2021-01-24 12:17:01,083 [client    ] [Thread-4    ] Forcing a disconnect due to an error: Closing connection because someone else logged in with the same credentials. Only one session may be active at the same time.\n"
     ]
    }
   ],
   "source": [
    "def hedge():\n",
    "    pos = e.get_positions()\n",
    "    pos_diff = pos['PHILIPS_A']+pos['PHILIPS_B']\n",
    "\n",
    "    price_book = e.get_last_price_book('PHILIPS_A')\n",
    "    best_ask, best_bid, spread, midquote = get_vitals(price_book) # always buy or sell in A\n",
    "\n",
    "    if pos_diff > 0: # more in A, get rid of a\n",
    "        side, price = 'ask', best_bid\n",
    "        logger.debug(f'More in A {pos_diff}, getting rid {pos}')\n",
    "    elif pos_diff < 0: # less in A, buy A\n",
    "        side, price = 'bid', best_ask\n",
    "        logger.debug(f'Less in A {pos_diff}, buying {pos}')\n",
    "    else:\n",
    "        return True\n",
    "\n",
    "    volume= min(abs(pos_diff), 5)\n",
    "    logger.debug(f'side : {side}, volume: {volume}, price {price}')\n",
    "    \n",
    "    e.insert_order('PHILIPS_A', price=price, volume=volume, side=side, order_type='ioc')\n",
    "    return False\n",
    "\n",
    "\n",
    "for i in range(5):\n",
    "    #pos = e.get_positions()\n",
    "    hedge()"
   ]
  },
  {
   "cell_type": "code",
   "execution_count": null,
   "id": "rental-archives",
   "metadata": {},
   "outputs": [],
   "source": []
  },
  {
   "cell_type": "code",
   "execution_count": null,
   "id": "korean-directive",
   "metadata": {},
   "outputs": [],
   "source": [
    "from src.utils.market_utils import "
   ]
  },
  {
   "cell_type": "code",
   "execution_count": 18,
   "id": "refined-mapping",
   "metadata": {},
   "outputs": [
    {
     "name": "stderr",
     "output_type": "stream",
     "text": [
      "2021-01-24 12:16:09,437 [client    ] [Thread-4    ] Private trade: ( tradeId = 18083,\n",
      "  timestamp = 1611490569425949194,\n",
      "  instrumentId = \"PHILIPS_A\",\n",
      "  orderId = 91183,\n",
      "  price = 78.9,\n",
      "  volume = 2,\n",
      "  side = ask ). [in /usr/local/lib/python3.6/site-packages/optibook/exchange_client.py:153]\n",
      "2021-01-24 12:16:09,437 [client    ] [Thread-4    ] Private trade: ( tradeId = 18083,\n",
      "  timestamp = 1611490569425949194,\n",
      "  instrumentId = \"PHILIPS_A\",\n",
      "  orderId = 91183,\n",
      "  price = 78.9,\n",
      "  volume = 2,\n",
      "  side = ask ).\n",
      "2021-01-24 12:16:09,441 [client    ] [Thread-4    ] trade end ( tradeId = 18083,\n",
      "  timestamp = 1611490569425949194,\n",
      "  instrumentId = \"PHILIPS_A\",\n",
      "  orderId = 91183,\n",
      "  price = 78.9,\n",
      "  volume = 2,\n",
      "  side = ask ) [in /usr/local/lib/python3.6/site-packages/optibook/exchange_client.py:299]\n",
      "2021-01-24 12:16:09,441 [client    ] [Thread-4    ] trade end ( tradeId = 18083,\n",
      "  timestamp = 1611490569425949194,\n",
      "  instrumentId = \"PHILIPS_A\",\n",
      "  orderId = 91183,\n",
      "  price = 78.9,\n",
      "  volume = 2,\n",
      "  side = ask )\n",
      "2021-01-24 12:16:09,497 [client    ] [Thread-4    ] Private trade: ( tradeId = 18084,\n",
      "  timestamp = 1611490569489557813,\n",
      "  instrumentId = \"PHILIPS_B\",\n",
      "  orderId = 91184,\n",
      "  price = 79.100000000000009,\n",
      "  volume = 1,\n",
      "  side = ask ). [in /usr/local/lib/python3.6/site-packages/optibook/exchange_client.py:153]\n",
      "2021-01-24 12:16:09,497 [client    ] [Thread-4    ] Private trade: ( tradeId = 18084,\n",
      "  timestamp = 1611490569489557813,\n",
      "  instrumentId = \"PHILIPS_B\",\n",
      "  orderId = 91184,\n",
      "  price = 79.100000000000009,\n",
      "  volume = 1,\n",
      "  side = ask ).\n",
      "2021-01-24 12:16:09,499 [client    ] [Thread-4    ] trade end ( tradeId = 18084,\n",
      "  timestamp = 1611490569489557813,\n",
      "  instrumentId = \"PHILIPS_B\",\n",
      "  orderId = 91184,\n",
      "  price = 79.100000000000009,\n",
      "  volume = 1,\n",
      "  side = ask ) [in /usr/local/lib/python3.6/site-packages/optibook/exchange_client.py:299]\n",
      "2021-01-24 12:16:09,499 [client    ] [Thread-4    ] trade end ( tradeId = 18084,\n",
      "  timestamp = 1611490569489557813,\n",
      "  instrumentId = \"PHILIPS_B\",\n",
      "  orderId = 91184,\n",
      "  price = 79.100000000000009,\n",
      "  volume = 1,\n",
      "  side = ask )\n"
     ]
    },
    {
     "data": {
      "text/plain": [
       "91184"
      ]
     },
     "execution_count": 18,
     "metadata": {},
     "output_type": "execute_result"
    }
   ],
   "source": [
    "e.insert_order('PHILIPS_A', price=78, volume=2, side='ask', order_type='ioc') # sell\n",
    "e.insert_order('PHILIPS_B', price=78, volume=1, side='ask', order_type='ioc') # sell"
   ]
  },
  {
   "cell_type": "code",
   "execution_count": 46,
   "id": "little-employee",
   "metadata": {},
   "outputs": [
    {
     "data": {
      "text/plain": [
       "[-1, 0]"
      ]
     },
     "execution_count": 46,
     "metadata": {},
     "output_type": "execute_result"
    }
   ],
   "source": [
    "list(pos.values())"
   ]
  },
  {
   "cell_type": "code",
   "execution_count": 27,
   "id": "center-things",
   "metadata": {},
   "outputs": [],
   "source": [
    "pos = e.get_positions()"
   ]
  },
  {
   "cell_type": "code",
   "execution_count": 28,
   "id": "experienced-arctic",
   "metadata": {},
   "outputs": [
    {
     "ename": "SyntaxError",
     "evalue": "invalid syntax (<ipython-input-28-d7bcdcc176a0>, line 1)",
     "output_type": "error",
     "traceback": [
      "\u001b[0;36m  File \u001b[0;32m\"<ipython-input-28-d7bcdcc176a0>\"\u001b[0;36m, line \u001b[0;32m1\u001b[0m\n\u001b[0;31m    *pos.values()==0\u001b[0m\n\u001b[0m                  ^\u001b[0m\n\u001b[0;31mSyntaxError\u001b[0m\u001b[0;31m:\u001b[0m invalid syntax\n"
     ]
    }
   ],
   "source": [
    "*pos.values()==0"
   ]
  },
  {
   "cell_type": "code",
   "execution_count": 24,
   "id": "consistent-screen",
   "metadata": {},
   "outputs": [
    {
     "data": {
      "text/plain": [
       "True"
      ]
     },
     "execution_count": 24,
     "metadata": {},
     "output_type": "execute_result"
    }
   ],
   "source": [
    "list(pos.values())==[0,0]"
   ]
  },
  {
   "cell_type": "code",
   "execution_count": 30,
   "id": "floating-assumption",
   "metadata": {},
   "outputs": [
    {
     "ename": "TypeError",
     "evalue": "cannot convert dictionary update sequence element #0 to a sequence",
     "output_type": "error",
     "traceback": [
      "\u001b[0;31m---------------------------------------------------------------------------\u001b[0m",
      "\u001b[0;31mTypeError\u001b[0m                                 Traceback (most recent call last)",
      "\u001b[0;32m<ipython-input-30-e4e8ab316da5>\u001b[0m in \u001b[0;36m<module>\u001b[0;34m\u001b[0m\n\u001b[0;32m----> 1\u001b[0;31m \u001b[0mdict\u001b[0m\u001b[0;34m(\u001b[0m\u001b[0;34m[\u001b[0m\u001b[0;36m0\u001b[0m\u001b[0;34m,\u001b[0m\u001b[0;36m2\u001b[0m\u001b[0;34m]\u001b[0m\u001b[0;34m)\u001b[0m\u001b[0;34m.\u001b[0m\u001b[0mvalues\u001b[0m\u001b[0;34m(\u001b[0m\u001b[0;34m)\u001b[0m\u001b[0;34m\u001b[0m\u001b[0;34m\u001b[0m\u001b[0m\n\u001b[0m",
      "\u001b[0;31mTypeError\u001b[0m: cannot convert dictionary update sequence element #0 to a sequence"
     ]
    }
   ],
   "source": [
    "{'A':-30, 'B':20}"
   ]
  },
  {
   "cell_type": "code",
   "execution_count": 34,
   "id": "greatest-accreditation",
   "metadata": {},
   "outputs": [
    {
     "data": {
      "text/plain": [
       "{'PHILIPS_A': 0, 'PHILIPS_B': 0}"
      ]
     },
     "execution_count": 34,
     "metadata": {},
     "output_type": "execute_result"
    }
   ],
   "source": [
    "e.get_positions()"
   ]
  },
  {
   "cell_type": "code",
   "execution_count": null,
   "id": "boxed-score",
   "metadata": {},
   "outputs": [],
   "source": []
  }
 ],
 "metadata": {
  "kernelspec": {
   "display_name": "Python 3",
   "language": "python",
   "name": "python3"
  },
  "language_info": {
   "codemirror_mode": {
    "name": "ipython",
    "version": 3
   },
   "file_extension": ".py",
   "mimetype": "text/x-python",
   "name": "python",
   "nbconvert_exporter": "python",
   "pygments_lexer": "ipython3",
   "version": "3.6.12"
  }
 },
 "nbformat": 4,
 "nbformat_minor": 5
}
